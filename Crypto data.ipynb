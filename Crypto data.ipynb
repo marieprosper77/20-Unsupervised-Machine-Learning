{
 "cells": [
  {
   "cell_type": "code",
   "execution_count": null,
   "id": "2004e8d4",
   "metadata": {},
   "outputs": [],
   "source": [
    "# Initial imports\n",
    "import pandas as pd\n",
    "from pathlib import Path"
   ]
  },
  {
   "cell_type": "code",
   "execution_count": null,
   "id": "01146e21",
   "metadata": {},
   "outputs": [],
   "source": [
    "#Data Loading\n",
    "file_path = Path(\"crypto_data.csv\")\n",
    "df_crypto = pd.read_csv(file_path)\n",
    "df_crypto.head()\n",
    "df_crypto.shape"
   ]
  },
  {
   "cell_type": "code",
   "execution_count": null,
   "id": "031f0aa3",
   "metadata": {},
   "outputs": [],
   "source": [
    "#Eliminate crypto currencies that don't trade\n",
    "df_crypto2 = df_crypto[df_crypto.IsTrading == True]\n",
    "df_crypto2.shape"
   ]
  },
  {
   "cell_type": "code",
   "execution_count": null,
   "id": "ce8a07e0",
   "metadata": {},
   "outputs": [],
   "source": [
    "#drop the IsTrading column\n",
    "df_crypto3 = df_crypto2.drop(columns=[\"IsTrading\"])\n",
    "df_crypto3.shape"
   ]
  },
  {
   "cell_type": "code",
   "execution_count": null,
   "id": "e8619d82",
   "metadata": {},
   "outputs": [],
   "source": [
    "#Drop any rows with null values\n",
    "df_crypto4 = df_crypto3.dropna()\n",
    "df_crypto4.shape"
   ]
  },
  {
   "cell_type": "code",
   "execution_count": null,
   "id": "ac79ab4d",
   "metadata": {},
   "outputs": [],
   "source": [
    "\n",
    "#Drop the unneccesary columns\n",
    "df_crypto4.head()\n",
    "df_crypto5 = df_crypto4.drop(columns=[\"CoinName\",\"Unnamed: 0\"])\n",
    "df_crypto5.shape\n",
    "df_crypto5.TotalCoinSupply = df_crypto5.TotalCoinSupply.astype(float)\n",
    "df_crypto5.dtypes"
   ]
  },
  {
   "cell_type": "code",
   "execution_count": null,
   "id": "d22371ca",
   "metadata": {},
   "outputs": [],
   "source": [
    "# create dummy variables for categorized columns\n",
    "df_crypto6 = pd.get_dummies(df_crypto5)\n",
    "df_crypto6.shape"
   ]
  },
  {
   "cell_type": "code",
   "execution_count": null,
   "id": "2111c813",
   "metadata": {},
   "outputs": [],
   "source": [
    "from sklearn.preprocessing import StandardScaler\n",
    "from sklearn.decomposition import PCA\n",
    "\n",
    "pca = PCA(n_components=.90)\n",
    "\n",
    "df_crypto6_scaled = StandardScaler().fit_transform(df_crypto6)\n",
    "\n",
    "crypto6_pca = pca.fit_transform(df_crypto6_scaled)\n",
    "\n",
    "df_crypto6_pca = pd.DataFrame(data=crypto6_pca)\n",
    "\n",
    "df_crypto6_pca"
   ]
  },
  {
   "cell_type": "code",
   "execution_count": null,
   "id": "1662cf46",
   "metadata": {},
   "outputs": [],
   "source": [
    "from sklearn.manifold import TSNE\n",
    "\n",
    "# Initialize t-SNE model\n",
    "tsne = TSNE(learning_rate=35)\n",
    "\n",
    "# Reduce dimensions\n",
    "tsne_features = tsne.fit_transform(crypto6_pca)"
   ]
  },
  {
   "cell_type": "code",
   "execution_count": null,
   "id": "636f8984",
   "metadata": {},
   "outputs": [],
   "source": [
    "tsne_features.shape"
   ]
  },
  {
   "cell_type": "code",
   "execution_count": null,
   "id": "364483c3",
   "metadata": {},
   "outputs": [],
   "source": [
    "tsne_df = pd.DataFrame(tsne_features, columns=['x','y'])\n",
    "tsne_df"
   ]
  },
  {
   "cell_type": "code",
   "execution_count": null,
   "id": "a3109cda",
   "metadata": {},
   "outputs": [],
   "source": [
    "import matplotlib.pyplot as plt\n",
    "plt.scatter(tsne_df['x'], tsne_df['y'])\n",
    "plt.show()"
   ]
  },
  {
   "cell_type": "code",
   "execution_count": null,
   "id": "0792f40b",
   "metadata": {},
   "outputs": [],
   "source": [
    "import numpy as np\n",
    "from sklearn.cluster import KMeans\n",
    "\n",
    "inertia = []\n",
    "# Same as k = list(range(1, 11))\n",
    "k = [1,2,3,4,5,6,7,8,9,10]\n",
    "\n",
    "# Looking for the best k\n",
    "for i in k:\n",
    "    km = KMeans(n_clusters=i, random_state=0)\n",
    "    km.fit(tsne_df)\n",
    "    inertia.append(km.inertia_)\n",
    "\n",
    "# Define a DataFrame to plot the Elbow Curve using hvPlot\n",
    "elbow_data = {\"k\": k, \"inertia\": inertia}\n",
    "df_elbow = pd.DataFrame(elbow_data)\n",
    "\n",
    "plt.plot(df_elbow['k'], df_elbow['inertia'])\n",
    "plt.xticks(range(1,11))\n",
    "plt.xlabel('Number of clusters')\n",
    "plt.ylabel('Inertia')\n",
    "plt.show()"
   ]
  }
 ],
 "metadata": {
  "kernelspec": {
   "display_name": "Python 3",
   "language": "python",
   "name": "python3"
  },
  "language_info": {
   "codemirror_mode": {
    "name": "ipython",
    "version": 3
   },
   "file_extension": ".py",
   "mimetype": "text/x-python",
   "name": "python",
   "nbconvert_exporter": "python",
   "pygments_lexer": "ipython3",
   "version": "3.8.8"
  }
 },
 "nbformat": 4,
 "nbformat_minor": 5
}
